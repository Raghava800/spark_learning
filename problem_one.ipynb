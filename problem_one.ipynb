{
 "cells": [
  {
   "cell_type": "markdown",
   "id": "738b48f7-1633-4deb-922c-67d4801cf727",
   "metadata": {},
   "source": [
    "#### cusotmer who visited but did not make any transcations"
   ]
  },
  {
   "cell_type": "code",
   "execution_count": 1,
   "id": "e6a92a0d-5853-430f-af1a-f5be7e5150e3",
   "metadata": {},
   "outputs": [],
   "source": [
    "import os\n",
    "import sys\n",
    "from datetime import datetime, time"
   ]
  },
  {
   "cell_type": "code",
   "execution_count": 2,
   "id": "1faa9a2c-daff-4837-9a57-73339c0ff5bb",
   "metadata": {},
   "outputs": [],
   "source": [
    "os.environ[\"PYSPARK_PYTHON\"] = \"C:/Users/Raghava/AppData/Local/Programs/Python/Python311/python.exe\"\n",
    "os.environ[\"PYSPARK_DRIVER_PYTHON\"] = \"C:/Users/Raghava/AppData/Local/Programs/Python/Python311/python.exe\""
   ]
  },
  {
   "cell_type": "code",
   "execution_count": 3,
   "id": "96bed890-9cbc-4149-8b0e-324445874065",
   "metadata": {},
   "outputs": [],
   "source": [
    "spark_home = \"C:\\spark\\spark-3.5.3-bin-hadoop3\"\n",
    "sys.path.insert(0, spark_home + \"\\python\") \n",
    "sys.path.insert(0, spark_home + \"\\python\\lib\\py4j-0.10.9.7-src.zip\")"
   ]
  },
  {
   "cell_type": "code",
   "execution_count": 11,
   "id": "46607195-e9b3-47ce-a375-d9a72c2f2e33",
   "metadata": {},
   "outputs": [],
   "source": [
    "from pyspark.sql import SparkSession\n",
    "from pyspark.sql.functions import col"
   ]
  },
  {
   "cell_type": "code",
   "execution_count": 5,
   "id": "da925705-576e-4e52-93fe-d555245c6f5b",
   "metadata": {},
   "outputs": [],
   "source": [
    "spark = SparkSession.builder.getOrCreate()"
   ]
  },
  {
   "cell_type": "code",
   "execution_count": 6,
   "id": "1cc15bac-c1e4-4877-a282-723a19f40c7b",
   "metadata": {},
   "outputs": [],
   "source": [
    "visits_data = [(1,101),(2,102),(3,101),(4,103)]\n",
    "transactions_data = [(1,1,300),(2,4,300)]"
   ]
  },
  {
   "cell_type": "code",
   "execution_count": 7,
   "id": "c1876426-472e-4d5c-b6e4-115f6470b8ed",
   "metadata": {},
   "outputs": [],
   "source": [
    "visits_df = spark.createDataFrame(visits_data, [\"visit_id\",\"customer_id\"])\n",
    "transactions_df = spark.createDataFrame(transactions_data, [\"transaction_id\", \"visit_id\", \"amount\"])"
   ]
  },
  {
   "cell_type": "code",
   "execution_count": 8,
   "id": "143654f8-5f75-44eb-a350-3763d5dd0f84",
   "metadata": {},
   "outputs": [
    {
     "name": "stdout",
     "output_type": "stream",
     "text": [
      "+--------+-----------+\n",
      "|visit_id|customer_id|\n",
      "+--------+-----------+\n",
      "|       1|        101|\n",
      "|       2|        102|\n",
      "|       3|        101|\n",
      "|       4|        103|\n",
      "+--------+-----------+\n",
      "\n"
     ]
    }
   ],
   "source": [
    "visits_df.show()"
   ]
  },
  {
   "cell_type": "code",
   "execution_count": 9,
   "id": "8f3ce325-ce72-44a4-9546-7bf7e479dc55",
   "metadata": {},
   "outputs": [
    {
     "name": "stdout",
     "output_type": "stream",
     "text": [
      "+--------------+--------+------+\n",
      "|transaction_id|visit_id|amount|\n",
      "+--------------+--------+------+\n",
      "|             1|       1|   300|\n",
      "|             2|       4|   300|\n",
      "+--------------+--------+------+\n",
      "\n"
     ]
    }
   ],
   "source": [
    "transactions_df.show()"
   ]
  },
  {
   "cell_type": "code",
   "execution_count": 16,
   "id": "5dd8d2bf-8dfb-42e0-adef-8e6dfdebc7f7",
   "metadata": {},
   "outputs": [],
   "source": [
    "result_df = visits_df.join(transactions_df, on = \"visit_id\", how = \"left\") \\\n",
    ".select(col(\"customer_id\"), col(\"visit_id\")).where(col(\"transaction_id\").isNull()).groupBy(col(\"customer_id\")).count() \\\n",
    ".withColumnRenamed(\"count\", \"count_no_trans\")"
   ]
  },
  {
   "cell_type": "code",
   "execution_count": 17,
   "id": "ec99a8b7-e070-465e-a7c5-86d6796208df",
   "metadata": {},
   "outputs": [
    {
     "name": "stdout",
     "output_type": "stream",
     "text": [
      "+-----------+--------------+\n",
      "|customer_id|count_no_trans|\n",
      "+-----------+--------------+\n",
      "|        101|             1|\n",
      "|        102|             1|\n",
      "+-----------+--------------+\n",
      "\n"
     ]
    }
   ],
   "source": [
    "result_df.show()"
   ]
  },
  {
   "cell_type": "code",
   "execution_count": null,
   "id": "2b1e27c7-bfbf-433e-9dfe-bf642a36cb7d",
   "metadata": {},
   "outputs": [],
   "source": []
  }
 ],
 "metadata": {
  "kernelspec": {
   "display_name": "Python 3 (ipykernel)",
   "language": "python",
   "name": "python3"
  },
  "language_info": {
   "codemirror_mode": {
    "name": "ipython",
    "version": 3
   },
   "file_extension": ".py",
   "mimetype": "text/x-python",
   "name": "python",
   "nbconvert_exporter": "python",
   "pygments_lexer": "ipython3",
   "version": "3.11.9"
  }
 },
 "nbformat": 4,
 "nbformat_minor": 5
}
